{
 "cells": [
  {
   "cell_type": "markdown",
   "metadata": {},
   "source": [
    "# **Model Inferece - Classification Model for Predicting Someone's Income Category**\n",
    "\n",
    "**`Created by:`**\n",
    "\n",
    "Michael Nathaniel"
   ]
  },
  {
   "cell_type": "markdown",
   "metadata": {},
   "source": [
    "---\n",
    "## **Inference**"
   ]
  },
  {
   "cell_type": "markdown",
   "metadata": {},
   "source": [
    "Model yang sudah dilatih akan dicoba pada data yang bukan termasuk ke dalam train-set ataupun test-set. Data ini harus dalam format yang asli, bukan data yang sudah di-scaled."
   ]
  },
  {
   "cell_type": "markdown",
   "metadata": {},
   "source": [
    "### **1. Import Modul**"
   ]
  },
  {
   "cell_type": "markdown",
   "metadata": {},
   "source": [
    "Kita akan mengimport modul modul yang diperlukan terlebih dahulu"
   ]
  },
  {
   "cell_type": "code",
   "execution_count": 28,
   "metadata": {},
   "outputs": [],
   "source": [
    "import pandas as pd\n",
    "import pickle"
   ]
  },
  {
   "cell_type": "markdown",
   "metadata": {},
   "source": [
    "### **2. Load Model**"
   ]
  },
  {
   "cell_type": "markdown",
   "metadata": {},
   "source": [
    "Pertama-tama, kita akan meload model terlebih dahulu."
   ]
  },
  {
   "cell_type": "code",
   "execution_count": 29,
   "metadata": {},
   "outputs": [],
   "source": [
    "# Memuat Model\n",
    "\n",
    "# Memuat model Linear Regression dari file pickle\n",
    "with open('model.pkl', 'rb') as file_1:\n",
    "  model = pickle.load(file_1)"
   ]
  },
  {
   "cell_type": "markdown",
   "metadata": {},
   "source": [
    "### **3. Input Data Inference**"
   ]
  },
  {
   "cell_type": "markdown",
   "metadata": {},
   "source": [
    "Kita akan membuat data baru yang berisikan informasi yang diperlukan oleh model untuk memprediksi."
   ]
  },
  {
   "cell_type": "code",
   "execution_count": 30,
   "metadata": {},
   "outputs": [
    {
     "data": {
      "text/html": [
       "<div>\n",
       "<style scoped>\n",
       "    .dataframe tbody tr th:only-of-type {\n",
       "        vertical-align: middle;\n",
       "    }\n",
       "\n",
       "    .dataframe tbody tr th {\n",
       "        vertical-align: top;\n",
       "    }\n",
       "\n",
       "    .dataframe thead th {\n",
       "        text-align: right;\n",
       "    }\n",
       "</style>\n",
       "<table border=\"1\" class=\"dataframe\">\n",
       "  <thead>\n",
       "    <tr style=\"text-align: right;\">\n",
       "      <th></th>\n",
       "      <th>age</th>\n",
       "      <th>workclass</th>\n",
       "      <th>education</th>\n",
       "      <th>marital-status</th>\n",
       "      <th>occupation</th>\n",
       "      <th>sex</th>\n",
       "      <th>hours-per-week</th>\n",
       "      <th>native-continent</th>\n",
       "    </tr>\n",
       "  </thead>\n",
       "  <tbody>\n",
       "    <tr>\n",
       "      <th>0</th>\n",
       "      <td>36</td>\n",
       "      <td>Private</td>\n",
       "      <td>High_Education</td>\n",
       "      <td>Single</td>\n",
       "      <td>Management</td>\n",
       "      <td>Male</td>\n",
       "      <td>50</td>\n",
       "      <td>North America</td>\n",
       "    </tr>\n",
       "  </tbody>\n",
       "</table>\n",
       "</div>"
      ],
      "text/plain": [
       "   age workclass       education marital-status  occupation   sex  \\\n",
       "0   36   Private  High_Education         Single  Management  Male   \n",
       "\n",
       "   hours-per-week native-continent  \n",
       "0              50    North America  "
      ]
     },
     "execution_count": 30,
     "metadata": {},
     "output_type": "execute_result"
    }
   ],
   "source": [
    "# Membuat Data Baru\n",
    "\n",
    "# Membuat data baru dengan informasi jarak, pengali lonjakan, dan nama armada\n",
    "data_inf = {\n",
    "    'age': [36],\n",
    "    'workclass': ['Private'],\n",
    "    'education': ['High_Education'],\n",
    "    'marital-status': ['Single'],\n",
    "    'occupation': ['Management'],\n",
    "    'sex': ['Male'],\n",
    "    'hours-per-week': [50],\n",
    "    'native-continent': ['North America']\n",
    "}\n",
    "\n",
    "# Membuat DataFrame dari data baru\n",
    "data_inf = pd.DataFrame(data_inf)\n",
    "\n",
    "# Menampilkan data baru\n",
    "data_inf"
   ]
  },
  {
   "cell_type": "markdown",
   "metadata": {},
   "source": [
    "### **4. Jalankan Inference**"
   ]
  },
  {
   "cell_type": "code",
   "execution_count": 31,
   "metadata": {},
   "outputs": [
    {
     "name": "stdout",
     "output_type": "stream",
     "text": [
      "Pendapatan (income) diatas $50.000 per tahun (>50K).\n"
     ]
    }
   ],
   "source": [
    "# Memprediksi dengan Menggunakan Model Linear Regression\n",
    "\n",
    "# Memprediksi target untuk data baru menggunakan model Linear Regression\n",
    "y_pred_inf = model.predict(data_inf)\n",
    "\n",
    "# Menampilkan prediksi untuk data baru\n",
    "if y_pred_inf == 0:\n",
    "    print(\"Pendapatan (income) dibawah atau sama dengan $50.000 per tahun (<=50K).\")\n",
    "else:\n",
    "    print(\"Pendapatan (income) diatas $50.000 per tahun (>50K).\")"
   ]
  }
 ],
 "metadata": {
  "kernelspec": {
   "display_name": "base",
   "language": "python",
   "name": "python3"
  },
  "language_info": {
   "codemirror_mode": {
    "name": "ipython",
    "version": 3
   },
   "file_extension": ".py",
   "mimetype": "text/x-python",
   "name": "python",
   "nbconvert_exporter": "python",
   "pygments_lexer": "ipython3",
   "version": "3.11.4"
  }
 },
 "nbformat": 4,
 "nbformat_minor": 2
}
